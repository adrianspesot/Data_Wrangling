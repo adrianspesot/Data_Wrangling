{
 "cells": [
  {
   "cell_type": "markdown",
   "metadata": {},
   "source": [
    "# Data Wrangling"
   ]
  },
  {
   "cell_type": "markdown",
   "metadata": {},
   "source": [
    "### Alúmno: Spesot Adrián\n",
    "### Curso: Data Science"
   ]
  },
  {
   "cell_type": "markdown",
   "metadata": {},
   "source": [
    "## Consigna\n",
    "#### Leer los set de datos w_data.csv y p_data.csv, fusionarlos a partir de la variable que tengan en común (ID)y realizar las siguientes ejercicios:\n",
    "\n",
    "##### 1. Cuantos ID tienen en común. Nombrar cuales no tienen en común\n",
    "##### 2. Corregir los target a solo dos valores distintos ‘<=50k’ y ‘>50k’\n",
    "##### 3. Calcular la proporción que hay entre personas con salarios >50k respecto del total para entre personas de distinto sexo, Raza y Educacion. Por ejemplo cuál es el porcentaje de mujeres con un salario mayor a 50K y compararlo con el de los hombres. Lo mismo para personas de distintas razas y Educación\n"
   ]
  },
  {
   "cell_type": "markdown",
   "metadata": {},
   "source": [
    "### Librerías a Utilizar"
   ]
  },
  {
   "cell_type": "code",
   "execution_count": 1,
   "metadata": {},
   "outputs": [],
   "source": [
    "import pandas as pd\n",
    "import numpy as np\n",
    "import matplotlib.pyplot as plt"
   ]
  },
  {
   "cell_type": "markdown",
   "metadata": {},
   "source": [
    "### Lectura de Archivos"
   ]
  },
  {
   "cell_type": "code",
   "execution_count": 2,
   "metadata": {},
   "outputs": [
    {
     "data": {
      "text/html": [
       "<div>\n",
       "<style scoped>\n",
       "    .dataframe tbody tr th:only-of-type {\n",
       "        vertical-align: middle;\n",
       "    }\n",
       "\n",
       "    .dataframe tbody tr th {\n",
       "        vertical-align: top;\n",
       "    }\n",
       "\n",
       "    .dataframe thead th {\n",
       "        text-align: right;\n",
       "    }\n",
       "</style>\n",
       "<table border=\"1\" class=\"dataframe\">\n",
       "  <thead>\n",
       "    <tr style=\"text-align: right;\">\n",
       "      <th></th>\n",
       "      <th>Age</th>\n",
       "      <th>Sex</th>\n",
       "      <th>ID</th>\n",
       "      <th>Race</th>\n",
       "      <th>Country</th>\n",
       "      <th>Education</th>\n",
       "      <th>Education-Num</th>\n",
       "      <th>Marital Status</th>\n",
       "      <th>Relationship</th>\n",
       "    </tr>\n",
       "  </thead>\n",
       "  <tbody>\n",
       "    <tr>\n",
       "      <th>0</th>\n",
       "      <td>39.0</td>\n",
       "      <td>Male</td>\n",
       "      <td>49084</td>\n",
       "      <td>White</td>\n",
       "      <td>United-States</td>\n",
       "      <td>Bachelors</td>\n",
       "      <td>13.0</td>\n",
       "      <td>Never-married</td>\n",
       "      <td>Not-in-family</td>\n",
       "    </tr>\n",
       "    <tr>\n",
       "      <th>1</th>\n",
       "      <td>50.0</td>\n",
       "      <td>Male</td>\n",
       "      <td>68553</td>\n",
       "      <td>White</td>\n",
       "      <td>United-States</td>\n",
       "      <td>Bachelors</td>\n",
       "      <td>13.0</td>\n",
       "      <td>Married-civ-spouse</td>\n",
       "      <td>Husband</td>\n",
       "    </tr>\n",
       "    <tr>\n",
       "      <th>2</th>\n",
       "      <td>38.0</td>\n",
       "      <td>Male</td>\n",
       "      <td>143654</td>\n",
       "      <td>White</td>\n",
       "      <td>United-States</td>\n",
       "      <td>HS-grad</td>\n",
       "      <td>9.0</td>\n",
       "      <td>Divorced</td>\n",
       "      <td>Not-in-family</td>\n",
       "    </tr>\n",
       "    <tr>\n",
       "      <th>3</th>\n",
       "      <td>53.0</td>\n",
       "      <td>Male</td>\n",
       "      <td>41510</td>\n",
       "      <td>Black</td>\n",
       "      <td>United-States</td>\n",
       "      <td>11th</td>\n",
       "      <td>7.0</td>\n",
       "      <td>Married-civ-spouse</td>\n",
       "      <td>Husband</td>\n",
       "    </tr>\n",
       "    <tr>\n",
       "      <th>4</th>\n",
       "      <td>28.0</td>\n",
       "      <td>Female</td>\n",
       "      <td>195025</td>\n",
       "      <td>Black</td>\n",
       "      <td>Cuba</td>\n",
       "      <td>Bachelors</td>\n",
       "      <td>13.0</td>\n",
       "      <td>Married-civ-spouse</td>\n",
       "      <td>Wife</td>\n",
       "    </tr>\n",
       "  </tbody>\n",
       "</table>\n",
       "</div>"
      ],
      "text/plain": [
       "    Age     Sex      ID   Race        Country  Education  Education-Num  \\\n",
       "0  39.0    Male   49084  White  United-States  Bachelors           13.0   \n",
       "1  50.0    Male   68553  White  United-States  Bachelors           13.0   \n",
       "2  38.0    Male  143654  White  United-States    HS-grad            9.0   \n",
       "3  53.0    Male   41510  Black  United-States       11th            7.0   \n",
       "4  28.0  Female  195025  Black           Cuba  Bachelors           13.0   \n",
       "\n",
       "       Marital Status   Relationship  \n",
       "0       Never-married  Not-in-family  \n",
       "1  Married-civ-spouse        Husband  \n",
       "2            Divorced  Not-in-family  \n",
       "3  Married-civ-spouse        Husband  \n",
       "4  Married-civ-spouse           Wife  "
      ]
     },
     "execution_count": 2,
     "metadata": {},
     "output_type": "execute_result"
    }
   ],
   "source": [
    "p_data = pd.read_csv('p_data.csv',sep=';',skipinitialspace = True)\n",
    "w_data = pd.read_csv('w_data.csv',sep=';',skipinitialspace = True)\n",
    "\n",
    "p_data.head(5)"
   ]
  },
  {
   "cell_type": "code",
   "execution_count": 3,
   "metadata": {},
   "outputs": [
    {
     "data": {
      "text/html": [
       "<div>\n",
       "<style scoped>\n",
       "    .dataframe tbody tr th:only-of-type {\n",
       "        vertical-align: middle;\n",
       "    }\n",
       "\n",
       "    .dataframe tbody tr th {\n",
       "        vertical-align: top;\n",
       "    }\n",
       "\n",
       "    .dataframe thead th {\n",
       "        text-align: right;\n",
       "    }\n",
       "</style>\n",
       "<table border=\"1\" class=\"dataframe\">\n",
       "  <thead>\n",
       "    <tr style=\"text-align: right;\">\n",
       "      <th></th>\n",
       "      <th>Workclass</th>\n",
       "      <th>fnlwgt</th>\n",
       "      <th>Capital Gain</th>\n",
       "      <th>Capital Loss</th>\n",
       "      <th>Hours per week</th>\n",
       "      <th>ID</th>\n",
       "      <th>Target</th>\n",
       "    </tr>\n",
       "  </thead>\n",
       "  <tbody>\n",
       "    <tr>\n",
       "      <th>0</th>\n",
       "      <td>State-gov</td>\n",
       "      <td>77516.0</td>\n",
       "      <td>2174.0</td>\n",
       "      <td>0.0</td>\n",
       "      <td>40.0</td>\n",
       "      <td>49084</td>\n",
       "      <td>&lt;=50K</td>\n",
       "    </tr>\n",
       "    <tr>\n",
       "      <th>1</th>\n",
       "      <td>Self-emp-not-inc</td>\n",
       "      <td>83311.0</td>\n",
       "      <td>0.0</td>\n",
       "      <td>0.0</td>\n",
       "      <td>13.0</td>\n",
       "      <td>68553</td>\n",
       "      <td>&lt;=50K</td>\n",
       "    </tr>\n",
       "    <tr>\n",
       "      <th>2</th>\n",
       "      <td>Private</td>\n",
       "      <td>215646.0</td>\n",
       "      <td>0.0</td>\n",
       "      <td>0.0</td>\n",
       "      <td>40.0</td>\n",
       "      <td>143654</td>\n",
       "      <td>&lt;=50K</td>\n",
       "    </tr>\n",
       "    <tr>\n",
       "      <th>3</th>\n",
       "      <td>Private</td>\n",
       "      <td>234721.0</td>\n",
       "      <td>0.0</td>\n",
       "      <td>0.0</td>\n",
       "      <td>40.0</td>\n",
       "      <td>41510</td>\n",
       "      <td>&lt;=50K</td>\n",
       "    </tr>\n",
       "    <tr>\n",
       "      <th>4</th>\n",
       "      <td>Private</td>\n",
       "      <td>338409.0</td>\n",
       "      <td>0.0</td>\n",
       "      <td>0.0</td>\n",
       "      <td>40.0</td>\n",
       "      <td>195025</td>\n",
       "      <td>&lt;=50K</td>\n",
       "    </tr>\n",
       "  </tbody>\n",
       "</table>\n",
       "</div>"
      ],
      "text/plain": [
       "          Workclass    fnlwgt  Capital Gain  Capital Loss  Hours per week  \\\n",
       "0         State-gov   77516.0        2174.0           0.0            40.0   \n",
       "1  Self-emp-not-inc   83311.0           0.0           0.0            13.0   \n",
       "2           Private  215646.0           0.0           0.0            40.0   \n",
       "3           Private  234721.0           0.0           0.0            40.0   \n",
       "4           Private  338409.0           0.0           0.0            40.0   \n",
       "\n",
       "       ID Target  \n",
       "0   49084  <=50K  \n",
       "1   68553  <=50K  \n",
       "2  143654  <=50K  \n",
       "3   41510  <=50K  \n",
       "4  195025  <=50K  "
      ]
     },
     "execution_count": 3,
     "metadata": {},
     "output_type": "execute_result"
    }
   ],
   "source": [
    "w_data.head(5)"
   ]
  },
  {
   "cell_type": "markdown",
   "metadata": {},
   "source": [
    "#### Evaluamos si los archivos contienen celdas con NaN"
   ]
  },
  {
   "cell_type": "code",
   "execution_count": 4,
   "metadata": {},
   "outputs": [
    {
     "name": "stdout",
     "output_type": "stream",
     "text": [
      "Cantidad de Celdas con NaN en archivo p_data: 8\n",
      "Cantidad de Celdas con NaN en archivo w_data: 6\n"
     ]
    }
   ],
   "source": [
    "# En este paso evaluamos si hay celdas con NaN y los sumamos para conocer cuantas celtas hay\n",
    "a = p_data.isnull().sum().sum()\n",
    "b = w_data.isnull().sum().sum()\n",
    "\n",
    "print(f'''Cantidad de Celdas con NaN en archivo p_data: {a}\n",
    "Cantidad de Celdas con NaN en archivo w_data: {b}''')"
   ]
  },
  {
   "cell_type": "markdown",
   "metadata": {},
   "source": [
    "##### Conocemos cuales son los index con NaN para cada datasets"
   ]
  },
  {
   "cell_type": "code",
   "execution_count": 5,
   "metadata": {},
   "outputs": [
    {
     "data": {
      "text/html": [
       "<div>\n",
       "<style scoped>\n",
       "    .dataframe tbody tr th:only-of-type {\n",
       "        vertical-align: middle;\n",
       "    }\n",
       "\n",
       "    .dataframe tbody tr th {\n",
       "        vertical-align: top;\n",
       "    }\n",
       "\n",
       "    .dataframe thead th {\n",
       "        text-align: right;\n",
       "    }\n",
       "</style>\n",
       "<table border=\"1\" class=\"dataframe\">\n",
       "  <thead>\n",
       "    <tr style=\"text-align: right;\">\n",
       "      <th></th>\n",
       "      <th>Age</th>\n",
       "      <th>Sex</th>\n",
       "      <th>ID</th>\n",
       "      <th>Race</th>\n",
       "      <th>Country</th>\n",
       "      <th>Education</th>\n",
       "      <th>Education-Num</th>\n",
       "      <th>Marital Status</th>\n",
       "      <th>Relationship</th>\n",
       "    </tr>\n",
       "  </thead>\n",
       "  <tbody>\n",
       "    <tr>\n",
       "      <th>32561</th>\n",
       "      <td>NaN</td>\n",
       "      <td>NaN</td>\n",
       "      <td>37078</td>\n",
       "      <td>NaN</td>\n",
       "      <td>NaN</td>\n",
       "      <td>NaN</td>\n",
       "      <td>NaN</td>\n",
       "      <td>NaN</td>\n",
       "      <td>NaN</td>\n",
       "    </tr>\n",
       "  </tbody>\n",
       "</table>\n",
       "</div>"
      ],
      "text/plain": [
       "       Age  Sex     ID Race Country Education  Education-Num Marital Status  \\\n",
       "32561  NaN  NaN  37078  NaN     NaN       NaN            NaN            NaN   \n",
       "\n",
       "      Relationship  \n",
       "32561          NaN  "
      ]
     },
     "execution_count": 5,
     "metadata": {},
     "output_type": "execute_result"
    }
   ],
   "source": [
    "# Utilizamo any(1) para que nos devuelva la fila que contiene valores NaN\n",
    "p_data[p_data.isnull().any(1)]"
   ]
  },
  {
   "cell_type": "code",
   "execution_count": 6,
   "metadata": {},
   "outputs": [
    {
     "data": {
      "text/html": [
       "<div>\n",
       "<style scoped>\n",
       "    .dataframe tbody tr th:only-of-type {\n",
       "        vertical-align: middle;\n",
       "    }\n",
       "\n",
       "    .dataframe tbody tr th {\n",
       "        vertical-align: top;\n",
       "    }\n",
       "\n",
       "    .dataframe thead th {\n",
       "        text-align: right;\n",
       "    }\n",
       "</style>\n",
       "<table border=\"1\" class=\"dataframe\">\n",
       "  <thead>\n",
       "    <tr style=\"text-align: right;\">\n",
       "      <th></th>\n",
       "      <th>Workclass</th>\n",
       "      <th>fnlwgt</th>\n",
       "      <th>Capital Gain</th>\n",
       "      <th>Capital Loss</th>\n",
       "      <th>Hours per week</th>\n",
       "      <th>ID</th>\n",
       "      <th>Target</th>\n",
       "    </tr>\n",
       "  </thead>\n",
       "  <tbody>\n",
       "    <tr>\n",
       "      <th>32561</th>\n",
       "      <td>NaN</td>\n",
       "      <td>NaN</td>\n",
       "      <td>NaN</td>\n",
       "      <td>NaN</td>\n",
       "      <td>NaN</td>\n",
       "      <td>37078</td>\n",
       "      <td>NaN</td>\n",
       "    </tr>\n",
       "  </tbody>\n",
       "</table>\n",
       "</div>"
      ],
      "text/plain": [
       "      Workclass  fnlwgt  Capital Gain  Capital Loss  Hours per week     ID  \\\n",
       "32561       NaN     NaN           NaN           NaN             NaN  37078   \n",
       "\n",
       "      Target  \n",
       "32561    NaN  "
      ]
     },
     "execution_count": 6,
     "metadata": {},
     "output_type": "execute_result"
    }
   ],
   "source": [
    "w_data[w_data.isnull().any(1)]"
   ]
  },
  {
   "cell_type": "markdown",
   "metadata": {},
   "source": [
    "Si comparamos ambos, podemos observar que el ID 37078 se repite en ambos datasets por lo que podemos omitir este ID diréctamente eliminandolo en ambos datasets."
   ]
  },
  {
   "cell_type": "code",
   "execution_count": 7,
   "metadata": {},
   "outputs": [],
   "source": [
    "# Eliminamos missing values, axis=0 para que sea la fila completa, inplace=true para que guarde los cambios directamente en el archivo\n",
    "p_data.dropna(axis=0, inplace=True)\n",
    "w_data.dropna(axis=0, inplace=True)"
   ]
  },
  {
   "cell_type": "markdown",
   "metadata": {},
   "source": [
    "### Fusión de Archivos"
   ]
  },
  {
   "cell_type": "code",
   "execution_count": 28,
   "metadata": {},
   "outputs": [],
   "source": [
    "# Unimos los dataframe con merge con todas las convinaciones posibles\n",
    "\n",
    "df_inner = pd.merge(p_data, w_data, on= 'ID', how='inner') # Unimos los DF con los datos en común\n",
    "# df_left = pd.merge(p_data, w_data, on= 'ID', how='left') # Unimos los DF con los datos  respetando la tabla de la izquierda\n",
    "# df_right = pd.merge(p_data, w_data, on= 'ID', how='right') # Unimos los DF con los datos respetando la tabla de la derecha\n",
    "df_outer = pd.merge(p_data, w_data, on= 'ID', how='outer')# Unimos los DF con todos datos"
   ]
  },
  {
   "cell_type": "markdown",
   "metadata": {},
   "source": [
    "### 1. Cuantos ID tienen en común. Nombrar cuales no tienen en común"
   ]
  },
  {
   "cell_type": "markdown",
   "metadata": {},
   "source": [
    "##### Cuantos ID tienen en común"
   ]
  },
  {
   "cell_type": "code",
   "execution_count": 9,
   "metadata": {},
   "outputs": [
    {
     "name": "stdout",
     "output_type": "stream",
     "text": [
      "Los archivos tienen 48841 ID en común entre los dataframe\n"
     ]
    }
   ],
   "source": [
    "# Para conocer esta respuesta, debemos hacer un shape en el df_inner ya que este tipo de union nos muestra los datos en común\n",
    "print(f'''Los archivos tienen {df_inner.shape[0]} ID en común entre los dataframe''')"
   ]
  },
  {
   "cell_type": "markdown",
   "metadata": {},
   "source": [
    "##### Nombrar cuales no tienen datos en común"
   ]
  },
  {
   "cell_type": "code",
   "execution_count": 10,
   "metadata": {},
   "outputs": [
    {
     "name": "stdout",
     "output_type": "stream",
     "text": [
      "El archivo p_data contiene 48841 ID  \n",
      "El archivo w_data contiene 48842 ID\n",
      "Existe 1 archivos que no son común\n"
     ]
    }
   ],
   "source": [
    "p = p_data['ID'].count()\n",
    "w = w_data['ID'].count()\n",
    "\n",
    "if p == w:\n",
    "    print('todos los ID tienen datos en común')\n",
    "else:\n",
    "    print(f'''El archivo p_data contiene {p} ID  \n",
    "El archivo w_data contiene {w} ID\n",
    "Existe {abs(p-w)} archivos que no son común''')"
   ]
  },
  {
   "cell_type": "markdown",
   "metadata": {},
   "source": [
    "Como la cantidad de ID en común es de 48841 y la cantidad de datos de p_data es la misma, se asumen que el conjnto de datos\n",
    "w_data contiene al conjunto de datos p_data.-\n",
    "Con esto podemos decir que solo se registra 1 ID que no comparten ambas tablas"
   ]
  },
  {
   "cell_type": "markdown",
   "metadata": {},
   "source": [
    "Ver web:\n",
    "http://exponentis.es/como-encontrar-valores-nan-en-un-dataframe-python-pandas-y-modificarlos"
   ]
  },
  {
   "cell_type": "code",
   "execution_count": 11,
   "metadata": {},
   "outputs": [
    {
     "data": {
      "text/plain": [
       "True"
      ]
     },
     "execution_count": 11,
     "metadata": {},
     "output_type": "execute_result"
    }
   ],
   "source": [
    "df_outer.isnull().values.any() # Detectamos si tenemos valores NaN"
   ]
  },
  {
   "cell_type": "code",
   "execution_count": 12,
   "metadata": {},
   "outputs": [
    {
     "data": {
      "text/plain": [
       "8"
      ]
     },
     "execution_count": 12,
     "metadata": {},
     "output_type": "execute_result"
    }
   ],
   "source": [
    "df_outer.isnull().sum().sum() # Calculamos que cantidad de cendas contienen NaN"
   ]
  },
  {
   "cell_type": "code",
   "execution_count": 13,
   "metadata": {},
   "outputs": [
    {
     "data": {
      "text/html": [
       "<div>\n",
       "<style scoped>\n",
       "    .dataframe tbody tr th:only-of-type {\n",
       "        vertical-align: middle;\n",
       "    }\n",
       "\n",
       "    .dataframe tbody tr th {\n",
       "        vertical-align: top;\n",
       "    }\n",
       "\n",
       "    .dataframe thead th {\n",
       "        text-align: right;\n",
       "    }\n",
       "</style>\n",
       "<table border=\"1\" class=\"dataframe\">\n",
       "  <thead>\n",
       "    <tr style=\"text-align: right;\">\n",
       "      <th></th>\n",
       "      <th>Age</th>\n",
       "      <th>Sex</th>\n",
       "      <th>ID</th>\n",
       "      <th>Race</th>\n",
       "      <th>Country</th>\n",
       "      <th>Education</th>\n",
       "      <th>Education-Num</th>\n",
       "      <th>Marital Status</th>\n",
       "      <th>Relationship</th>\n",
       "      <th>Workclass</th>\n",
       "      <th>fnlwgt</th>\n",
       "      <th>Capital Gain</th>\n",
       "      <th>Capital Loss</th>\n",
       "      <th>Hours per week</th>\n",
       "      <th>Target</th>\n",
       "    </tr>\n",
       "  </thead>\n",
       "  <tbody>\n",
       "    <tr>\n",
       "      <th>48841</th>\n",
       "      <td>NaN</td>\n",
       "      <td>NaN</td>\n",
       "      <td>1344995623</td>\n",
       "      <td>NaN</td>\n",
       "      <td>NaN</td>\n",
       "      <td>NaN</td>\n",
       "      <td>NaN</td>\n",
       "      <td>NaN</td>\n",
       "      <td>NaN</td>\n",
       "      <td>Self-emp-inc</td>\n",
       "      <td>182148.0</td>\n",
       "      <td>0.0</td>\n",
       "      <td>0.0</td>\n",
       "      <td>60.0</td>\n",
       "      <td>&gt;50K.</td>\n",
       "    </tr>\n",
       "  </tbody>\n",
       "</table>\n",
       "</div>"
      ],
      "text/plain": [
       "       Age  Sex          ID Race Country Education  Education-Num  \\\n",
       "48841  NaN  NaN  1344995623  NaN     NaN       NaN            NaN   \n",
       "\n",
       "      Marital Status Relationship     Workclass    fnlwgt  Capital Gain  \\\n",
       "48841            NaN          NaN  Self-emp-inc  182148.0           0.0   \n",
       "\n",
       "       Capital Loss  Hours per week Target  \n",
       "48841           0.0            60.0  >50K.  "
      ]
     },
     "execution_count": 13,
     "metadata": {},
     "output_type": "execute_result"
    }
   ],
   "source": [
    "df_outer[df_outer.isnull().any(1)] # Nos muestra el dataframe donde tenemos lo valoares nan"
   ]
  },
  {
   "cell_type": "code",
   "execution_count": 14,
   "metadata": {},
   "outputs": [
    {
     "data": {
      "text/plain": [
       "48841    1344995623\n",
       "Name: ID, dtype: int64"
      ]
     },
     "execution_count": 14,
     "metadata": {},
     "output_type": "execute_result"
    }
   ],
   "source": [
    "# ¿Qué ID no tienen en común?\n",
    "df_outer[df_outer.isnull().any(1)]['ID']"
   ]
  },
  {
   "cell_type": "markdown",
   "metadata": {},
   "source": [
    "### 2. Corregir los target a solo dos valores distintos ‘<=50k’ y ‘>50k’"
   ]
  },
  {
   "cell_type": "code",
   "execution_count": 15,
   "metadata": {},
   "outputs": [
    {
     "data": {
      "text/plain": [
       "Target\n",
       "<=50K     24720\n",
       "<=50K.    12435\n",
       ">50K       7841\n",
       ">50K.      3846\n",
       "Name: Target, dtype: int64"
      ]
     },
     "execution_count": 15,
     "metadata": {},
     "output_type": "execute_result"
    }
   ],
   "source": [
    "# Chequeamos cuantos valores de Target tenemos\n",
    "df_outer.groupby('Target')['Target'].count()"
   ]
  },
  {
   "cell_type": "code",
   "execution_count": 16,
   "metadata": {},
   "outputs": [],
   "source": [
    "# Reemplazamos valores para que queden 2 valores distintos\n",
    "df_outer.replace(['<=50K.', '<=50K'],'<=50K',inplace= True)\n",
    "df_outer.replace(['>50K.', '>50K'],'>50K',inplace= True)\n"
   ]
  },
  {
   "cell_type": "code",
   "execution_count": 17,
   "metadata": {},
   "outputs": [
    {
     "data": {
      "text/plain": [
       "Target\n",
       "<=50K    37155\n",
       ">50K     11687\n",
       "Name: Target, dtype: int64"
      ]
     },
     "execution_count": 17,
     "metadata": {},
     "output_type": "execute_result"
    }
   ],
   "source": [
    "# Chequeamos que queden solo dos valores distintos de target = '<=50' y '>50' \n",
    "df_outer.groupby('Target')['Target'].count()"
   ]
  },
  {
   "cell_type": "markdown",
   "metadata": {},
   "source": [
    "### 3. Calcular la proporción que hay entre personas con salarios >50k respecto del total para entre personas de distinto sexo, Raza y Educacion. Por ejemplo cuál es el porcentaje de mujeres con un salario mayor a 50K y compararlo con el de los hombres. Lo mismo para personas de distintas razas y Educación"
   ]
  },
  {
   "cell_type": "markdown",
   "metadata": {},
   "source": [
    "##### Crearemos un DF dejando unicamente los campos SEX, RACE, EDUCATION y agregamos dos campos de Cant Total y Cant de target >50K y Cant target <=50K"
   ]
  },
  {
   "cell_type": "code",
   "execution_count": 18,
   "metadata": {},
   "outputs": [
    {
     "data": {
      "text/html": [
       "<div>\n",
       "<style scoped>\n",
       "    .dataframe tbody tr th:only-of-type {\n",
       "        vertical-align: middle;\n",
       "    }\n",
       "\n",
       "    .dataframe tbody tr th {\n",
       "        vertical-align: top;\n",
       "    }\n",
       "\n",
       "    .dataframe thead th {\n",
       "        text-align: right;\n",
       "    }\n",
       "</style>\n",
       "<table border=\"1\" class=\"dataframe\">\n",
       "  <thead>\n",
       "    <tr style=\"text-align: right;\">\n",
       "      <th></th>\n",
       "      <th>Sex</th>\n",
       "      <th>Race</th>\n",
       "      <th>Education</th>\n",
       "      <th>Total_quantity</th>\n",
       "      <th>Quantity_&gt;50K</th>\n",
       "      <th>Quantity_&lt;=50K</th>\n",
       "    </tr>\n",
       "  </thead>\n",
       "  <tbody>\n",
       "    <tr>\n",
       "      <th>0</th>\n",
       "      <td>Female</td>\n",
       "      <td>Amer-Indian-Eskimo</td>\n",
       "      <td>10th</td>\n",
       "      <td>10</td>\n",
       "      <td>0</td>\n",
       "      <td>10</td>\n",
       "    </tr>\n",
       "    <tr>\n",
       "      <th>1</th>\n",
       "      <td>Female</td>\n",
       "      <td>Amer-Indian-Eskimo</td>\n",
       "      <td>11th</td>\n",
       "      <td>7</td>\n",
       "      <td>0</td>\n",
       "      <td>7</td>\n",
       "    </tr>\n",
       "    <tr>\n",
       "      <th>2</th>\n",
       "      <td>Female</td>\n",
       "      <td>Amer-Indian-Eskimo</td>\n",
       "      <td>1st-4th</td>\n",
       "      <td>2</td>\n",
       "      <td>0</td>\n",
       "      <td>2</td>\n",
       "    </tr>\n",
       "    <tr>\n",
       "      <th>3</th>\n",
       "      <td>Female</td>\n",
       "      <td>Amer-Indian-Eskimo</td>\n",
       "      <td>7th-8th</td>\n",
       "      <td>3</td>\n",
       "      <td>0</td>\n",
       "      <td>3</td>\n",
       "    </tr>\n",
       "    <tr>\n",
       "      <th>4</th>\n",
       "      <td>Female</td>\n",
       "      <td>Amer-Indian-Eskimo</td>\n",
       "      <td>9th</td>\n",
       "      <td>3</td>\n",
       "      <td>0</td>\n",
       "      <td>3</td>\n",
       "    </tr>\n",
       "  </tbody>\n",
       "</table>\n",
       "</div>"
      ],
      "text/plain": [
       "      Sex                Race Education  Total_quantity  Quantity_>50K  \\\n",
       "0  Female  Amer-Indian-Eskimo      10th              10              0   \n",
       "1  Female  Amer-Indian-Eskimo      11th               7              0   \n",
       "2  Female  Amer-Indian-Eskimo   1st-4th               2              0   \n",
       "3  Female  Amer-Indian-Eskimo   7th-8th               3              0   \n",
       "4  Female  Amer-Indian-Eskimo       9th               3              0   \n",
       "\n",
       "   Quantity_<=50K  \n",
       "0              10  \n",
       "1               7  \n",
       "2               2  \n",
       "3               3  \n",
       "4               3  "
      ]
     },
     "execution_count": 18,
     "metadata": {},
     "output_type": "execute_result"
    }
   ],
   "source": [
    "# Creo un df calculando la cantidad total filtrada por Sex, Race y Education\n",
    "df_calculo = df_outer.groupby(['Sex','Race','Education']).aggregate({'ID': 'count'}).\\\n",
    "                                                            reset_index().\\\n",
    "                                                            rename(columns={'ID':'Total_quantity'})\n",
    "\n",
    "# Creo un df calculando la cantidad con Target >50K filtrada por Sex, Race y Education\n",
    "df_calculo_50K = df_outer[df_outer['Target']=='>50K'].groupby(['Sex','Race','Education']).aggregate({'ID': 'count'}).\\\n",
    "                                                                                            reset_index().\\\n",
    "                                                                                            rename(columns={'ID':'Quantity_>50K'})\n",
    "\n",
    "# Creo un df calculando la cantidad con Target >50K filtrada por Sex, Race y Education\n",
    "df_calculo_menor_50K = df_outer[df_outer['Target']=='<=50K'].groupby(['Sex','Race','Education']).aggregate({'ID': 'count'}).\\\n",
    "                                                                                            reset_index().\\\n",
    "                                                                                            rename(columns={'ID':'Quantity_<=50K'})                                                                                            \n",
    "\n",
    "# Uno ambas tablas conectadas con Sex, Race y Education\n",
    "df = pd.merge(df_calculo,df_calculo_50K,how='left', on=['Sex','Race','Education'])\n",
    "df = pd.merge(df,df_calculo_menor_50K,how='left', on=['Sex','Race','Education'])\n",
    "\n",
    "# Reemplazo los NaN generados por un valor = 0\n",
    "df.fillna(int(0), inplace=True)\n",
    "\n",
    "# Convierto el tipo de datos de Quantity_>50 en entero\n",
    "df = df.astype({'Quantity_>50K': 'int64','Quantity_<=50K': 'int64'})\n",
    "\n",
    "# Mostramos el DataFrame Limpio para los calculos\n",
    "df.head(5)"
   ]
  },
  {
   "cell_type": "markdown",
   "metadata": {},
   "source": [
    "##### Generar DataFrame para Sexo"
   ]
  },
  {
   "cell_type": "code",
   "execution_count": 19,
   "metadata": {},
   "outputs": [
    {
     "name": "stderr",
     "output_type": "stream",
     "text": [
      "C:\\Users\\Adrian\\AppData\\Local\\Temp\\ipykernel_24696\\1328372530.py:3: FutureWarning: Indexing with multiple keys (implicitly converted to a tuple of keys) will be deprecated, use a list instead.\n",
      "  df_sex = df.groupby(['Sex'])['Sex','Total_quantity','Quantity_>50K','Quantity_<=50K'].sum().reset_index()\n"
     ]
    },
    {
     "data": {
      "text/html": [
       "<div>\n",
       "<style scoped>\n",
       "    .dataframe tbody tr th:only-of-type {\n",
       "        vertical-align: middle;\n",
       "    }\n",
       "\n",
       "    .dataframe tbody tr th {\n",
       "        vertical-align: top;\n",
       "    }\n",
       "\n",
       "    .dataframe thead th {\n",
       "        text-align: right;\n",
       "    }\n",
       "</style>\n",
       "<table border=\"1\" class=\"dataframe\">\n",
       "  <thead>\n",
       "    <tr style=\"text-align: right;\">\n",
       "      <th></th>\n",
       "      <th>Sex</th>\n",
       "      <th>Total_quantity</th>\n",
       "      <th>Quantity_&gt;50K</th>\n",
       "      <th>Quantity_&lt;=50K</th>\n",
       "    </tr>\n",
       "  </thead>\n",
       "  <tbody>\n",
       "    <tr>\n",
       "      <th>0</th>\n",
       "      <td>Female</td>\n",
       "      <td>16192</td>\n",
       "      <td>1769</td>\n",
       "      <td>14423</td>\n",
       "    </tr>\n",
       "    <tr>\n",
       "      <th>1</th>\n",
       "      <td>Male</td>\n",
       "      <td>32649</td>\n",
       "      <td>9917</td>\n",
       "      <td>22732</td>\n",
       "    </tr>\n",
       "  </tbody>\n",
       "</table>\n",
       "</div>"
      ],
      "text/plain": [
       "      Sex  Total_quantity  Quantity_>50K  Quantity_<=50K\n",
       "0  Female           16192           1769           14423\n",
       "1    Male           32649           9917           22732"
      ]
     },
     "execution_count": 19,
     "metadata": {},
     "output_type": "execute_result"
    }
   ],
   "source": [
    "# Creo un DF qe comprende datos de Sex\n",
    "\n",
    "df_sex = df.groupby(['Sex'])['Sex','Total_quantity','Quantity_>50K','Quantity_<=50K'].sum().reset_index()\n",
    "                                                                                                    \n",
    "df_sex"
   ]
  },
  {
   "cell_type": "code",
   "execution_count": 29,
   "metadata": {},
   "outputs": [
    {
     "data": {
      "text/plain": [
       "<matplotlib.legend.Legend at 0x2b70ceacb20>"
      ]
     },
     "execution_count": 29,
     "metadata": {},
     "output_type": "execute_result"
    },
    {
     "data": {
      "image/png": "[encoded data removed]",
      "text/plain": [
       "<Figure size 1440x720 with 3 Axes>"
      ]
     },
     "metadata": {},
     "output_type": "display_data"
    }
   ],
   "source": [
    "# Grafico resultados comparativos\n",
    "_, (a,b,c) =plt.subplots(1,3,figsize=(20,10))\n",
    "a.set_title('Distribución del Salario Total Según Sexo')\n",
    "a.pie(df_sex['Total_quantity'],autopct='%0.2f %%')\n",
    "a.legend(labels=df_sex['Sex'], loc = 'lower center')\n",
    "\n",
    "b.set_title('Distribución de Salarios >50K Según Sexo')\n",
    "b.pie(df_sex['Quantity_>50K'],autopct='%0.2f %%')\n",
    "b.legend(labels=df_sex['Sex'], loc = 'lower center')\n",
    "\n",
    "c.set_title('Distribución de Salarios <=50K Según Sexo')\n",
    "c.pie(df_sex['Quantity_<=50K'],autopct='%0.2f %%')\n",
    "c.legend(labels=df_sex['Sex'], loc = 'lower center')\n"
   ]
  },
  {
   "cell_type": "markdown",
   "metadata": {},
   "source": [
    "##### Generar DataFrame para Raza"
   ]
  },
  {
   "cell_type": "code",
   "execution_count": 21,
   "metadata": {},
   "outputs": [
    {
     "name": "stderr",
     "output_type": "stream",
     "text": [
      "C:\\Users\\Adrian\\AppData\\Local\\Temp\\ipykernel_24696\\3429195675.py:3: FutureWarning: Indexing with multiple keys (implicitly converted to a tuple of keys) will be deprecated, use a list instead.\n",
      "  df_race = df.groupby(['Race'])['Race','Total_quantity','Quantity_>50K','Quantity_<=50K'].sum().reset_index()\n"
     ]
    },
    {
     "data": {
      "text/html": [
       "<div>\n",
       "<style scoped>\n",
       "    .dataframe tbody tr th:only-of-type {\n",
       "        vertical-align: middle;\n",
       "    }\n",
       "\n",
       "    .dataframe tbody tr th {\n",
       "        vertical-align: top;\n",
       "    }\n",
       "\n",
       "    .dataframe thead th {\n",
       "        text-align: right;\n",
       "    }\n",
       "</style>\n",
       "<table border=\"1\" class=\"dataframe\">\n",
       "  <thead>\n",
       "    <tr style=\"text-align: right;\">\n",
       "      <th></th>\n",
       "      <th>Race</th>\n",
       "      <th>Total_quantity</th>\n",
       "      <th>Quantity_&gt;50K</th>\n",
       "      <th>Quantity_&lt;=50K</th>\n",
       "    </tr>\n",
       "  </thead>\n",
       "  <tbody>\n",
       "    <tr>\n",
       "      <th>0</th>\n",
       "      <td>Amer-Indian-Eskimo</td>\n",
       "      <td>470</td>\n",
       "      <td>55</td>\n",
       "      <td>415</td>\n",
       "    </tr>\n",
       "    <tr>\n",
       "      <th>1</th>\n",
       "      <td>Asian-Pac-Islander</td>\n",
       "      <td>1519</td>\n",
       "      <td>409</td>\n",
       "      <td>1110</td>\n",
       "    </tr>\n",
       "    <tr>\n",
       "      <th>2</th>\n",
       "      <td>Black</td>\n",
       "      <td>4685</td>\n",
       "      <td>566</td>\n",
       "      <td>4119</td>\n",
       "    </tr>\n",
       "    <tr>\n",
       "      <th>3</th>\n",
       "      <td>Other</td>\n",
       "      <td>406</td>\n",
       "      <td>50</td>\n",
       "      <td>356</td>\n",
       "    </tr>\n",
       "    <tr>\n",
       "      <th>4</th>\n",
       "      <td>White</td>\n",
       "      <td>41761</td>\n",
       "      <td>10606</td>\n",
       "      <td>31155</td>\n",
       "    </tr>\n",
       "  </tbody>\n",
       "</table>\n",
       "</div>"
      ],
      "text/plain": [
       "                 Race  Total_quantity  Quantity_>50K  Quantity_<=50K\n",
       "0  Amer-Indian-Eskimo             470             55             415\n",
       "1  Asian-Pac-Islander            1519            409            1110\n",
       "2               Black            4685            566            4119\n",
       "3               Other             406             50             356\n",
       "4               White           41761          10606           31155"
      ]
     },
     "execution_count": 21,
     "metadata": {},
     "output_type": "execute_result"
    }
   ],
   "source": [
    "# Creo un DF qe comprende datos de Sex\n",
    "\n",
    "df_race = df.groupby(['Race'])['Race','Total_quantity','Quantity_>50K','Quantity_<=50K'].sum().reset_index()\n",
    "                                                                                                    \n",
    "df_race"
   ]
  },
  {
   "cell_type": "code",
   "execution_count": 22,
   "metadata": {},
   "outputs": [
    {
     "data": {
      "image/png": "[encoded data removed]",
      "text/plain": [
       "<Figure size 720x504 with 1 Axes>"
      ]
     },
     "metadata": {
      "needs_background": "light"
     },
     "output_type": "display_data"
    }
   ],
   "source": [
    "# Grafico resultados comparativos\n",
    "plt.subplots(figsize=(10, 7))\n",
    "plt.title('Distribución de sueldos según el tipo de Raza')\n",
    "\n",
    "#Ordeno los datos de mayor a menor\n",
    "df_race_sort_total = df_race.sort_values('Total_quantity',ascending=False)\n",
    "\n",
    "a = plt.bar(df_race_sort_total['Race'],df_race_sort_total['Total_quantity'])\n",
    "plt.xlabel('Raza')\n",
    "plt.ylabel('Cantidad total')\n",
    "\n",
    "plt.bar_label(a); # Agrego la etiqueta de datos\n",
    "plt.show()\n",
    "\n"
   ]
  },
  {
   "cell_type": "code",
   "execution_count": 23,
   "metadata": {},
   "outputs": [
    {
     "data": {
      "image/png": "[encoded data removed]",
      "text/plain": [
       "<Figure size 720x720 with 1 Axes>"
      ]
     },
     "metadata": {
      "needs_background": "light"
     },
     "output_type": "display_data"
    }
   ],
   "source": [
    "# Grafico resultados comparativos entre \n",
    "plt.subplots(figsize=(10, 10))\n",
    "plt.title('Distribución de sueldos según el tipo de Raza y según Sueldo')\n",
    "\n",
    "x1 = np.arange(5) #creo un arreglo de las posiciones\n",
    "a = plt.bar(x1-0.2,df_race_sort_total['Quantity_<=50K'],width=0.4,label= 'Cant. con sueldo menor  o igual a 50K')\n",
    "b = plt.bar(x1+0.2,df_race_sort_total['Quantity_>50K'],width=0.4,label= 'Cant. con sueldo mayor a 50K')\n",
    "plt.ylim(bottom=2)\n",
    "\n",
    "# asigno al arreglo x1 una label cuyo arreglo será [White, Black,Asian-Pac-Islander, American-Indian-Eskimo, Other]\n",
    "plt.xticks(x1,df_race_sort_total['Race']) \n",
    "\n",
    "# Agrego etiquetas\n",
    "plt.xlabel('Raza')\n",
    "plt.ylabel('Cantidad total')\n",
    "\n",
    "plt.legend()\n",
    "\n",
    "plt.bar_label(a); # Agrego la etiqueta de datos\n",
    "plt.bar_label(b);\n",
    "plt.show()"
   ]
  },
  {
   "cell_type": "markdown",
   "metadata": {},
   "source": [
    "##### Generar DataFrame para Educación"
   ]
  },
  {
   "cell_type": "code",
   "execution_count": 24,
   "metadata": {},
   "outputs": [
    {
     "name": "stderr",
     "output_type": "stream",
     "text": [
      "C:\\Users\\Adrian\\AppData\\Local\\Temp\\ipykernel_24696\\2459061576.py:3: FutureWarning: Indexing with multiple keys (implicitly converted to a tuple of keys) will be deprecated, use a list instead.\n",
      "  df_education = df.groupby(['Education'])['Education','Total_quantity','Quantity_>50K','Quantity_<=50K'].sum().reset_index()\n"
     ]
    },
    {
     "data": {
      "text/html": [
       "<div>\n",
       "<style scoped>\n",
       "    .dataframe tbody tr th:only-of-type {\n",
       "        vertical-align: middle;\n",
       "    }\n",
       "\n",
       "    .dataframe tbody tr th {\n",
       "        vertical-align: top;\n",
       "    }\n",
       "\n",
       "    .dataframe thead th {\n",
       "        text-align: right;\n",
       "    }\n",
       "</style>\n",
       "<table border=\"1\" class=\"dataframe\">\n",
       "  <thead>\n",
       "    <tr style=\"text-align: right;\">\n",
       "      <th></th>\n",
       "      <th>Education</th>\n",
       "      <th>Total_quantity</th>\n",
       "      <th>Quantity_&gt;50K</th>\n",
       "      <th>Quantity_&lt;=50K</th>\n",
       "    </tr>\n",
       "  </thead>\n",
       "  <tbody>\n",
       "    <tr>\n",
       "      <th>0</th>\n",
       "      <td>10th</td>\n",
       "      <td>1389</td>\n",
       "      <td>87</td>\n",
       "      <td>1302</td>\n",
       "    </tr>\n",
       "    <tr>\n",
       "      <th>1</th>\n",
       "      <td>11th</td>\n",
       "      <td>1812</td>\n",
       "      <td>92</td>\n",
       "      <td>1720</td>\n",
       "    </tr>\n",
       "    <tr>\n",
       "      <th>2</th>\n",
       "      <td>12th</td>\n",
       "      <td>657</td>\n",
       "      <td>48</td>\n",
       "      <td>609</td>\n",
       "    </tr>\n",
       "    <tr>\n",
       "      <th>3</th>\n",
       "      <td>1st-4th</td>\n",
       "      <td>247</td>\n",
       "      <td>8</td>\n",
       "      <td>239</td>\n",
       "    </tr>\n",
       "    <tr>\n",
       "      <th>4</th>\n",
       "      <td>5th-6th</td>\n",
       "      <td>509</td>\n",
       "      <td>27</td>\n",
       "      <td>482</td>\n",
       "    </tr>\n",
       "  </tbody>\n",
       "</table>\n",
       "</div>"
      ],
      "text/plain": [
       "  Education  Total_quantity  Quantity_>50K  Quantity_<=50K\n",
       "0      10th            1389             87            1302\n",
       "1      11th            1812             92            1720\n",
       "2      12th             657             48             609\n",
       "3   1st-4th             247              8             239\n",
       "4   5th-6th             509             27             482"
      ]
     },
     "execution_count": 24,
     "metadata": {},
     "output_type": "execute_result"
    }
   ],
   "source": [
    "# Creo un DF qe comprende datos de Sex\n",
    "\n",
    "df_education = df.groupby(['Education'])['Education','Total_quantity','Quantity_>50K','Quantity_<=50K'].sum().reset_index()\n",
    "                                                                                                    \n",
    "df_education.head(5)"
   ]
  },
  {
   "cell_type": "code",
   "execution_count": 25,
   "metadata": {},
   "outputs": [
    {
     "data": {
      "image/png": "[encoded data removed]",
      "text/plain": [
       "<Figure size 1440x504 with 1 Axes>"
      ]
     },
     "metadata": {
      "needs_background": "light"
     },
     "output_type": "display_data"
    }
   ],
   "source": [
    "# Grafico resultados comparativos\n",
    "plt.subplots(figsize=(20, 7))\n",
    "plt.title('Distribución de sueldos según el tipo de Educación')\n",
    "\n",
    "#Ordeno los datos de mayor a menor\n",
    "df_education_sort_total = df_education.sort_values('Total_quantity',ascending=False)\n",
    "\n",
    "a = plt.bar(df_education_sort_total['Education'],df_education_sort_total['Total_quantity'])\n",
    "plt.xlabel('Education')\n",
    "plt.ylabel('Cantidad total')\n",
    "\n",
    "plt.bar_label(a); # Agrego la etiqueta de datos\n",
    "plt.show()\n"
   ]
  },
  {
   "cell_type": "code",
   "execution_count": 26,
   "metadata": {},
   "outputs": [
    {
     "data": {
      "image/png": "[encoded data removed]",
      "text/plain": [
       "<Figure size 1440x504 with 1 Axes>"
      ]
     },
     "metadata": {
      "needs_background": "light"
     },
     "output_type": "display_data"
    }
   ],
   "source": [
    "# Grafico resultados comparativos\n",
    "plt.subplots(figsize=(20, 7))\n",
    "plt.title('Distribución de sueldos mayores a 50K según el tipo de Educación')\n",
    "\n",
    "#Ordeno los datos de mayor a menor\n",
    "df_education_sort_total = df_education.sort_values('Quantity_>50K',ascending=False)\n",
    "\n",
    "a = plt.bar(df_education_sort_total['Education'],df_education_sort_total['Quantity_>50K'])\n",
    "plt.xlabel('Education')\n",
    "plt.ylabel('Cantidad total')\n",
    "\n",
    "plt.bar_label(a); # Agrego la etiqueta de datos\n",
    "plt.show()"
   ]
  }
 ],
 "metadata": {
  "kernelspec": {
   "display_name": "Python 3.9.12 ('envgeneral')",
   "language": "python",
   "name": "python3"
  },
  "language_info": {
   "codemirror_mode": {
    "name": "ipython",
    "version": 3
   },
   "file_extension": ".py",
   "mimetype": "text/x-python",
   "name": "python",
   "nbconvert_exporter": "python",
   "pygments_lexer": "ipython3",
   "version": "3.9.12"
  },
  "orig_nbformat": 4,
  "vscode": {
   "interpreter": {
    "hash": "a67534fc7dc9ab933b525f9a85f065a5cec0038cdad45e321de2f98b1370ea6f"
   }
  }
 },
 "nbformat": 4,
 "nbformat_minor": 2
}
